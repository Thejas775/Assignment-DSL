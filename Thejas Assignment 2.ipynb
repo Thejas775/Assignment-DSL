{
 "cells": [
  {
   "cell_type": "markdown",
   "id": "0d8d357b",
   "metadata": {},
   "source": [
    "<H1>Assignement 2 </H1>"
   ]
  },
  {
   "cell_type": "code",
   "execution_count": 9,
   "id": "0756b7ab",
   "metadata": {},
   "outputs": [
    {
     "name": "stdout",
     "output_type": "stream",
     "text": [
      "Enter the total number of students in class: 5\n",
      "Enter the mark of Student no 1: -1\n",
      "Enter the mark of Student no 2: 50\n",
      "Enter the mark of Student no 3: 50\n",
      "Enter the mark of Student no 4: 60\n",
      "Enter the mark of Student no 5: 54\n",
      "[-1, 50, 50, 60, 54]\n",
      "Enter 1 to get the average pf the class\n",
      "Enter 2 to get highest and lowest score of class\n",
      "Enter 3 to count the students who were absent for test\n",
      "Enter 4 to display number with highest frequency \n",
      "Enter a number to choose a procedure: 4\n",
      "The highest frquency mark is 50 with frquency of 2\n"
     ]
    }
   ],
   "source": [
    "def main():\n",
    "    marks=[]\n",
    "    x=int(input(\"Enter the total number of students in class: \"))\n",
    "    for i in range(x):\n",
    "        mark=int(input(\"Enter the mark of Student no {}: \".format(i+1)))\n",
    "        marks.append(mark)\n",
    "    print(marks)\n",
    "    absent=marks.count(-1)\n",
    "    print('Enter 1 to get the average pf the class')\n",
    "    print('Enter 2 to get highest and lowest score of class')\n",
    "    print('Enter 3 to count the students who were absent for test')\n",
    "    print('Enter 4 to display number with highest frequency ')\n",
    "    choice=int(input(\"Enter a number to choose a procedure: \"))\n",
    "    \n",
    "    def average():\n",
    "        print(\"The average of class is: \",(sum(marks)+absent)/x)\n",
    "    def highest_and_lowest():\n",
    "        temp=marks.copy()\n",
    "        temp.remove(-1)\n",
    "        max=0\n",
    "        min=temp[0]\n",
    "        for each in temp:\n",
    "            if each >max:\n",
    "                max=each\n",
    "            if each<min:\n",
    "                min=each\n",
    "        print(\"Highest is: \",max)\n",
    "        print(\"Lowest is: \",min)\n",
    "    def absent():\n",
    "        print(absent)\n",
    "    def marks_with_highest_frequency():\n",
    "        d={}\n",
    "        temp=[]\n",
    "        for each in marks:\n",
    "            if each not in temp:\n",
    "                temp.append(each)\n",
    "        for each in temp:\n",
    "            d[each]=0\n",
    "        for key in d:\n",
    "            d[key]=marks.count(key)\n",
    "        max1 = max(d, key=d.get)\n",
    "        max2 = d.get(max1)\n",
    "        print(\"The highest frquency mark is {} with frquency of {}\".format(max1,max2))\n",
    "        \n",
    "        \n",
    "    if choice==1:\n",
    "        average()\n",
    "    if choice==2:\n",
    "        highest_and_lowest()\n",
    "    if choice==3:\n",
    "        absent()\n",
    "    if choice==4:\n",
    "        marks_with_highest_frequency()\n",
    "main()      "
   ]
  },
  {
   "cell_type": "code",
   "execution_count": null,
   "id": "24bdbafe",
   "metadata": {},
   "outputs": [],
   "source": []
  }
 ],
 "metadata": {
  "kernelspec": {
   "display_name": "Python 3 (ipykernel)",
   "language": "python",
   "name": "python3"
  },
  "language_info": {
   "codemirror_mode": {
    "name": "ipython",
    "version": 3
   },
   "file_extension": ".py",
   "mimetype": "text/x-python",
   "name": "python",
   "nbconvert_exporter": "python",
   "pygments_lexer": "ipython3",
   "version": "3.9.13"
  }
 },
 "nbformat": 4,
 "nbformat_minor": 5
}
